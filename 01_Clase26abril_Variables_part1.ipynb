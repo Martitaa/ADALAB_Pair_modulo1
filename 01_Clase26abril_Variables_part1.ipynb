{
 "cells": [
  {
   "cell_type": "code",
   "execution_count": 1,
   "id": "6fafa130",
   "metadata": {},
   "outputs": [],
   "source": [
    "gato=8"
   ]
  },
  {
   "cell_type": "code",
   "execution_count": 2,
   "id": "6fde988d",
   "metadata": {},
   "outputs": [],
   "source": [
    "perro='cuatro'"
   ]
  },
  {
   "cell_type": "code",
   "execution_count": 3,
   "id": "40eb13a9",
   "metadata": {},
   "outputs": [
    {
     "name": "stdout",
     "output_type": "stream",
     "text": [
      "8\n"
     ]
    }
   ],
   "source": [
    "print(gato)"
   ]
  },
  {
   "cell_type": "code",
   "execution_count": 4,
   "id": "c89bb0cd",
   "metadata": {},
   "outputs": [
    {
     "name": "stdout",
     "output_type": "stream",
     "text": [
      "cuatro\n"
     ]
    }
   ],
   "source": [
    "print(perro)"
   ]
  },
  {
   "cell_type": "code",
   "execution_count": 7,
   "id": "5fa5ca35",
   "metadata": {},
   "outputs": [
    {
     "name": "stdout",
     "output_type": "stream",
     "text": [
      "cuatro mas cuatro\n"
     ]
    }
   ],
   "source": [
    "print(perro + ' ' + 'mas' + ' ' + perro)"
   ]
  },
  {
   "cell_type": "code",
   "execution_count": 9,
   "id": "6b16510b",
   "metadata": {},
   "outputs": [
    {
     "name": "stdout",
     "output_type": "stream",
     "text": [
      "cuatro mas cuatro es igual a 8\n"
     ]
    }
   ],
   "source": [
    "print(perro + ' ' + 'mas' + ' ' + perro + ' ' + 'es igual a 8')"
   ]
  },
  {
   "cell_type": "code",
   "execution_count": 12,
   "id": "38ef2a6a",
   "metadata": {},
   "outputs": [
    {
     "name": "stdout",
     "output_type": "stream",
     "text": [
      "cuatro + cuatro =8\n"
     ]
    }
   ],
   "source": [
    "print(perro + ' ' + '+' + ' ' + perro + ' ' + '=8')"
   ]
  },
  {
   "cell_type": "code",
   "execution_count": 14,
   "id": "43f56a1d",
   "metadata": {},
   "outputs": [
    {
     "data": {
      "text/plain": [
       "2.0"
      ]
     },
     "execution_count": 14,
     "metadata": {},
     "output_type": "execute_result"
    }
   ],
   "source": [
    "pizzas=float(2)\n",
    "pizzas"
   ]
  }
 ],
 "metadata": {
  "kernelspec": {
   "display_name": "base",
   "language": "python",
   "name": "python3"
  },
  "language_info": {
   "codemirror_mode": {
    "name": "ipython",
    "version": 3
   },
   "file_extension": ".py",
   "mimetype": "text/x-python",
   "name": "python",
   "nbconvert_exporter": "python",
   "pygments_lexer": "ipython3",
   "version": "3.12.7"
  }
 },
 "nbformat": 4,
 "nbformat_minor": 5
}
