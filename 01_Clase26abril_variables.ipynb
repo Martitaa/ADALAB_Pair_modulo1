{
 "cells": [
  {
   "cell_type": "code",
   "execution_count": 15,
   "id": "0e7907fb",
   "metadata": {},
   "outputs": [
    {
     "data": {
      "text/plain": [
       "6"
      ]
     },
     "execution_count": 15,
     "metadata": {},
     "output_type": "execute_result"
    }
   ],
   "source": [
    "3 + 3"
   ]
  },
  {
   "cell_type": "code",
   "execution_count": 16,
   "id": "9d558753",
   "metadata": {},
   "outputs": [
    {
     "data": {
      "text/plain": [
       "14"
      ]
     },
     "execution_count": 16,
     "metadata": {},
     "output_type": "execute_result"
    }
   ],
   "source": [
    "5+9"
   ]
  },
  {
   "cell_type": "code",
   "execution_count": null,
   "id": "2848740d",
   "metadata": {},
   "outputs": [
    {
     "name": "stdout",
     "output_type": "stream",
     "text": [
      "chiqui\n"
     ]
    }
   ],
   "source": [
    "str(0)\n",
    "float(\"3.15\")\n",
    "int(\"42\")\n",
    "cajita = \"chiqui\"\n",
    "print(cajita)\n",
    "\n"
   ]
  },
  {
   "cell_type": "markdown",
   "id": "9699130f",
   "metadata": {},
   "source": [
    "texto\n"
   ]
  },
  {
   "cell_type": "code",
   "execution_count": null,
   "id": "c0be37f4",
   "metadata": {},
   "outputs": [
    {
     "name": "stdout",
     "output_type": "stream",
     "text": [
      "9\n"
     ]
    },
    {
     "data": {
      "text/plain": [
       "'mal'"
      ]
     },
     "execution_count": 32,
     "metadata": {},
     "output_type": "execute_result"
    }
   ],
   "source": [
    "a = 8\n",
    "b = 9\n",
    "print(a and b)\n",
    "nombre = input(\"Cómo estás hoy\")\n",
    "nombre"
   ]
  },
  {
   "cell_type": "code",
   "execution_count": null,
   "id": "950d996c",
   "metadata": {},
   "outputs": [
    {
     "data": {
      "text/plain": [
       "-4"
      ]
     },
     "execution_count": 2,
     "metadata": {},
     "output_type": "execute_result"
    }
   ],
   "source": [
    "5 - 9\n"
   ]
  },
  {
   "cell_type": "code",
   "execution_count": 34,
   "id": "911be084",
   "metadata": {},
   "outputs": [
    {
     "name": "stdout",
     "output_type": "stream",
     "text": [
      "8\n",
      "cuatro\n",
      "cuatro mas cuatro\n",
      "cuatro mas cuatro es igual a 8\n",
      "cuatro + cuatro =8\n"
     ]
    },
    {
     "data": {
      "text/plain": [
       "2.0"
      ]
     },
     "execution_count": 34,
     "metadata": {},
     "output_type": "execute_result"
    }
   ],
   "source": [
    "\n",
    "gato=8\n",
    "\n",
    "perro='cuatro'\n",
    "print(gato)\n",
    "\n",
    "print(perro)\n",
    "\n",
    "print(perro + ' ' + 'mas' + ' ' + perro)\n",
    "\n",
    "print(perro + ' ' + 'mas' + ' ' + perro + ' ' + 'es igual a 8')\n",
    "\n",
    "print(perro + ' ' + '+' + ' ' + perro + ' ' + '=8')\n",
    "\n",
    "pizzas=float(2)\n",
    "pizzas"
   ]
  },
  {
   "cell_type": "code",
   "execution_count": 35,
   "id": "29b5544f",
   "metadata": {},
   "outputs": [],
   "source": [
    "magdalenas = str(2)"
   ]
  },
  {
   "cell_type": "code",
   "execution_count": 36,
   "id": "b0e7c293",
   "metadata": {},
   "outputs": [],
   "source": [
    "postres = int(0)"
   ]
  },
  {
   "cell_type": "code",
   "execution_count": null,
   "id": "4c9bee86",
   "metadata": {},
   "outputs": [
    {
     "data": {
      "text/plain": [
       "float"
      ]
     },
     "execution_count": 37,
     "metadata": {},
     "output_type": "execute_result"
    }
   ],
   "source": [
    "type(pizzas) #float"
   ]
  },
  {
   "cell_type": "code",
   "execution_count": null,
   "id": "87c42ca0",
   "metadata": {},
   "outputs": [
    {
     "data": {
      "text/plain": [
       "str"
      ]
     },
     "execution_count": 38,
     "metadata": {},
     "output_type": "execute_result"
    }
   ],
   "source": [
    "type(magdalenas) #SÍ, ES STRING"
   ]
  },
  {
   "cell_type": "code",
   "execution_count": 39,
   "id": "5af1aeb9",
   "metadata": {},
   "outputs": [],
   "source": [
    "postres=0\n"
   ]
  },
  {
   "cell_type": "code",
   "execution_count": 40,
   "id": "c890bfd1",
   "metadata": {},
   "outputs": [
    {
     "data": {
      "text/plain": [
       "10.0"
      ]
     },
     "execution_count": 40,
     "metadata": {},
     "output_type": "execute_result"
    }
   ],
   "source": [
    "gato + pizzas"
   ]
  },
  {
   "cell_type": "code",
   "execution_count": 41,
   "id": "108faba6",
   "metadata": {},
   "outputs": [
    {
     "data": {
      "text/plain": [
       "6.0"
      ]
     },
     "execution_count": 41,
     "metadata": {},
     "output_type": "execute_result"
    }
   ],
   "source": [
    "gato-pizzas"
   ]
  },
  {
   "cell_type": "code",
   "execution_count": 42,
   "id": "69470c75",
   "metadata": {},
   "outputs": [
    {
     "data": {
      "text/plain": [
       "16"
      ]
     },
     "execution_count": 42,
     "metadata": {},
     "output_type": "execute_result"
    }
   ],
   "source": [
    "gato*2"
   ]
  },
  {
   "cell_type": "code",
   "execution_count": 49,
   "id": "796d1f17",
   "metadata": {},
   "outputs": [
    {
     "data": {
      "text/plain": [
       "16.0"
      ]
     },
     "execution_count": 49,
     "metadata": {},
     "output_type": "execute_result"
    }
   ],
   "source": [
    "piezas=(pizzas*8)\n",
    "piezas"
   ]
  },
  {
   "cell_type": "code",
   "execution_count": 50,
   "id": "aa7d9a0d",
   "metadata": {},
   "outputs": [
    {
     "data": {
      "text/plain": [
       "19.0"
      ]
     },
     "execution_count": 50,
     "metadata": {},
     "output_type": "execute_result"
    }
   ],
   "source": [
    "piezas=piezas+3\n",
    "piezas"
   ]
  },
  {
   "cell_type": "code",
   "execution_count": 52,
   "id": "529ec753",
   "metadata": {},
   "outputs": [
    {
     "data": {
      "text/plain": [
       "81"
      ]
     },
     "execution_count": 52,
     "metadata": {},
     "output_type": "execute_result"
    }
   ],
   "source": [
    "superficie=9**2\n",
    "superficie"
   ]
  },
  {
   "cell_type": "code",
   "execution_count": 53,
   "id": "7de4729d",
   "metadata": {},
   "outputs": [
    {
     "data": {
      "text/plain": [
       "648"
      ]
     },
     "execution_count": 53,
     "metadata": {},
     "output_type": "execute_result"
    }
   ],
   "source": [
    "superficie*gato"
   ]
  },
  {
   "cell_type": "code",
   "execution_count": 55,
   "id": "9b32cd82",
   "metadata": {},
   "outputs": [
    {
     "data": {
      "text/plain": [
       "2"
      ]
     },
     "execution_count": 55,
     "metadata": {},
     "output_type": "execute_result"
    }
   ],
   "source": [
    "piezas=int(piezas)\n",
    "int(piezas/gato)"
   ]
  },
  {
   "cell_type": "code",
   "execution_count": null,
   "id": "c54a2c05",
   "metadata": {},
   "outputs": [],
   "source": [
    "#es imposible 22"
   ]
  },
  {
   "cell_type": "code",
   "execution_count": 62,
   "id": "d217389a",
   "metadata": {},
   "outputs": [
    {
     "data": {
      "text/plain": [
       "419904.0"
      ]
     },
     "execution_count": 62,
     "metadata": {},
     "output_type": "execute_result"
    }
   ],
   "source": [
    "float(((superficie*gato)**2))"
   ]
  },
  {
   "cell_type": "code",
   "execution_count": 63,
   "id": "185cf774",
   "metadata": {},
   "outputs": [
    {
     "data": {
      "text/plain": [
       "True"
      ]
     },
     "execution_count": 63,
     "metadata": {},
     "output_type": "execute_result"
    }
   ],
   "source": [
    "gato>pizzas"
   ]
  },
  {
   "cell_type": "code",
   "execution_count": 64,
   "id": "cf45e2e3",
   "metadata": {},
   "outputs": [
    {
     "data": {
      "text/plain": [
       "True"
      ]
     },
     "execution_count": 64,
     "metadata": {},
     "output_type": "execute_result"
    }
   ],
   "source": [
    "gato<superficie"
   ]
  },
  {
   "cell_type": "code",
   "execution_count": 65,
   "id": "1e75b131",
   "metadata": {},
   "outputs": [
    {
     "data": {
      "text/plain": [
       "True"
      ]
     },
     "execution_count": 65,
     "metadata": {},
     "output_type": "execute_result"
    }
   ],
   "source": [
    "(2*pizzas)!=gato"
   ]
  },
  {
   "cell_type": "code",
   "execution_count": 66,
   "id": "714316e7",
   "metadata": {},
   "outputs": [
    {
     "data": {
      "text/plain": [
       "True"
      ]
     },
     "execution_count": 66,
     "metadata": {},
     "output_type": "execute_result"
    }
   ],
   "source": [
    "not(2*pizzas)==gato"
   ]
  },
  {
   "cell_type": "code",
   "execution_count": 67,
   "id": "54ec62aa",
   "metadata": {},
   "outputs": [
    {
     "data": {
      "text/plain": [
       "True"
      ]
     },
     "execution_count": 67,
     "metadata": {},
     "output_type": "execute_result"
    }
   ],
   "source": [
    "piezas>=pizzas and superficie!=0"
   ]
  },
  {
   "cell_type": "code",
   "execution_count": 68,
   "id": "d9d251f5",
   "metadata": {},
   "outputs": [
    {
     "data": {
      "text/plain": [
       "True"
      ]
     },
     "execution_count": 68,
     "metadata": {},
     "output_type": "execute_result"
    }
   ],
   "source": [
    "piezas>=pizzas and piezas<superficie"
   ]
  },
  {
   "cell_type": "code",
   "execution_count": 69,
   "id": "cb8b7640",
   "metadata": {},
   "outputs": [
    {
     "data": {
      "text/plain": [
       "False"
      ]
     },
     "execution_count": 69,
     "metadata": {},
     "output_type": "execute_result"
    }
   ],
   "source": [
    "pizzas>gato or piezas%gato==0"
   ]
  },
  {
   "cell_type": "code",
   "execution_count": null,
   "id": "e9293837",
   "metadata": {},
   "outputs": [
    {
     "ename": "SyntaxError",
     "evalue": "invalid syntax (542453068.py, line 1)",
     "output_type": "error",
     "traceback": [
      "\u001b[1;36m  Cell \u001b[1;32mIn[71], line 1\u001b[1;36m\u001b[0m\n\u001b[1;33m    piezas(>=pizzas and <superficie)\u001b[0m\n\u001b[1;37m           ^\u001b[0m\n\u001b[1;31mSyntaxError\u001b[0m\u001b[1;31m:\u001b[0m invalid syntax\n"
     ]
    }
   ],
   "source": [
    "piezas>=pizzas and <superficie #VOLVER\n"
   ]
  },
  {
   "cell_type": "code",
   "execution_count": 72,
   "id": "3f07e16c",
   "metadata": {},
   "outputs": [
    {
     "data": {
      "text/plain": [
       "False"
      ]
     },
     "execution_count": 72,
     "metadata": {},
     "output_type": "execute_result"
    }
   ],
   "source": [
    "superficie==00"
   ]
  },
  {
   "cell_type": "code",
   "execution_count": null,
   "id": "dd61cb83",
   "metadata": {},
   "outputs": [],
   "source": [
    "dia_cumple=input(\"Cuál es el día de tu cumple\")\n",
    "mes_cumple=input(\"Cuál es el mes de tu cumple\")\n"
   ]
  },
  {
   "cell_type": "code",
   "execution_count": 76,
   "id": "f26b9aca",
   "metadata": {},
   "outputs": [
    {
     "ename": "NameError",
     "evalue": "name 'mes_cumple' is not defined",
     "output_type": "error",
     "traceback": [
      "\u001b[1;31m---------------------------------------------------------------------------\u001b[0m",
      "\u001b[1;31mNameError\u001b[0m                                 Traceback (most recent call last)",
      "Cell \u001b[1;32mIn[76], line 1\u001b[0m\n\u001b[1;32m----> 1\u001b[0m fecha_cumple\u001b[38;5;241m=\u001b[39m(dia_cumple \u001b[38;5;241m+\u001b[39m \u001b[38;5;124m\"\u001b[39m\u001b[38;5;124m \u001b[39m\u001b[38;5;124m\"\u001b[39m \u001b[38;5;241m+\u001b[39m \u001b[38;5;124m\"\u001b[39m\u001b[38;5;124mde\u001b[39m\u001b[38;5;124m\"\u001b[39m \u001b[38;5;241m+\u001b[39m \u001b[38;5;124m\"\u001b[39m\u001b[38;5;124m \u001b[39m\u001b[38;5;124m\"\u001b[39m \u001b[38;5;241m+\u001b[39m mes_cumple)\n",
      "\u001b[1;31mNameError\u001b[0m: name 'mes_cumple' is not defined"
     ]
    }
   ],
   "source": [
    "fecha_cumple=(dia_cumple + \" \" + \"de\" + \" \" + mes_cumple)\n"
   ]
  }
 ],
 "metadata": {
  "kernelspec": {
   "display_name": "base",
   "language": "python",
   "name": "python3"
  },
  "language_info": {
   "codemirror_mode": {
    "name": "ipython",
    "version": 3
   },
   "file_extension": ".py",
   "mimetype": "text/x-python",
   "name": "python",
   "nbconvert_exporter": "python",
   "pygments_lexer": "ipython3",
   "version": "3.12.9"
  }
 },
 "nbformat": 4,
 "nbformat_minor": 5
}
