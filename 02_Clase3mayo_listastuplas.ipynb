{
 "cells": [
  {
   "cell_type": "code",
   "execution_count": 34,
   "id": "600e77df",
   "metadata": {},
   "outputs": [],
   "source": [
    "colores = [\"azul\", \"amarillo\", \"verde\", \"rojo\", \"morado\", \"naranja\" ]   \n",
    "\n",
    "\n"
   ]
  },
  {
   "cell_type": "code",
   "execution_count": 35,
   "id": "1568cf12",
   "metadata": {},
   "outputs": [],
   "source": [
    "buses = [\"A1\", \"B2\", \"C3\", \"D4\", \"E5\", \"F6\"] \n"
   ]
  },
  {
   "cell_type": "code",
   "execution_count": 65,
   "id": "eff1e630",
   "metadata": {},
   "outputs": [],
   "source": [
    "temperaturas = [20, 12, 21, 18, 15, 16, 11] \n"
   ]
  },
  {
   "cell_type": "code",
   "execution_count": 37,
   "id": "dcd37ff0",
   "metadata": {},
   "outputs": [],
   "source": [
    "nombres = [\"Marta\", \"Iris\", \"Julia\"] \n"
   ]
  },
  {
   "cell_type": "code",
   "execution_count": 77,
   "id": "1fa5d44d",
   "metadata": {},
   "outputs": [],
   "source": [
    "nombres = \"Marta, Iris, Julia\""
   ]
  },
  {
   "cell_type": "code",
   "execution_count": 43,
   "id": "720fb3f9",
   "metadata": {},
   "outputs": [],
   "source": [
    "apellidos = [\"Sanz Muñoz\", \"Barredo del Sol\", \"Becaria Coquet\"] "
   ]
  },
  {
   "cell_type": "code",
   "execution_count": 10,
   "id": "65485de2",
   "metadata": {},
   "outputs": [
    {
     "data": {
      "text/plain": [
       "6"
      ]
     },
     "execution_count": 10,
     "metadata": {},
     "output_type": "execute_result"
    }
   ],
   "source": [
    "len(buses)"
   ]
  },
  {
   "cell_type": "code",
   "execution_count": 44,
   "id": "abb5e974",
   "metadata": {},
   "outputs": [
    {
     "data": {
      "text/plain": [
       "10"
      ]
     },
     "execution_count": 44,
     "metadata": {},
     "output_type": "execute_result"
    }
   ],
   "source": [
    "len(apellidos[0])"
   ]
  },
  {
   "cell_type": "code",
   "execution_count": 45,
   "id": "7fa12691",
   "metadata": {},
   "outputs": [
    {
     "data": {
      "text/plain": [
       "15"
      ]
     },
     "execution_count": 45,
     "metadata": {},
     "output_type": "execute_result"
    }
   ],
   "source": [
    "len(apellidos[1])\n"
   ]
  },
  {
   "cell_type": "code",
   "execution_count": 46,
   "id": "fa9eaf0e",
   "metadata": {},
   "outputs": [
    {
     "data": {
      "text/plain": [
       "14"
      ]
     },
     "execution_count": 46,
     "metadata": {},
     "output_type": "execute_result"
    }
   ],
   "source": [
    "len(apellidos[2])"
   ]
  },
  {
   "cell_type": "code",
   "execution_count": 66,
   "id": "5e464180",
   "metadata": {},
   "outputs": [
    {
     "data": {
      "text/plain": [
       "21"
      ]
     },
     "execution_count": 66,
     "metadata": {},
     "output_type": "execute_result"
    }
   ],
   "source": [
    "t_max = max(temperaturas)\n",
    "t_max"
   ]
  },
  {
   "cell_type": "code",
   "execution_count": 67,
   "id": "d3cf2e5f",
   "metadata": {},
   "outputs": [
    {
     "data": {
      "text/plain": [
       "11"
      ]
     },
     "execution_count": 67,
     "metadata": {},
     "output_type": "execute_result"
    }
   ],
   "source": [
    "t_min = min(temperaturas)\n",
    "t_min"
   ]
  },
  {
   "cell_type": "code",
   "execution_count": 49,
   "id": "1f5f44c6",
   "metadata": {},
   "outputs": [
    {
     "data": {
      "text/plain": [
       "2"
      ]
     },
     "execution_count": 49,
     "metadata": {},
     "output_type": "execute_result"
    }
   ],
   "source": [
    "nombres[0].count(\"a\")"
   ]
  },
  {
   "cell_type": "code",
   "execution_count": 50,
   "id": "4fb76933",
   "metadata": {},
   "outputs": [
    {
     "data": {
      "text/plain": [
       "0"
      ]
     },
     "execution_count": 50,
     "metadata": {},
     "output_type": "execute_result"
    }
   ],
   "source": [
    "nombres[1].count(\"a\")"
   ]
  },
  {
   "cell_type": "code",
   "execution_count": 24,
   "id": "07a7fd7d",
   "metadata": {},
   "outputs": [
    {
     "data": {
      "text/plain": [
       "1"
      ]
     },
     "execution_count": 24,
     "metadata": {},
     "output_type": "execute_result"
    }
   ],
   "source": [
    "nombres[2].count(\"a\")"
   ]
  },
  {
   "cell_type": "code",
   "execution_count": 25,
   "id": "48dc4656",
   "metadata": {},
   "outputs": [
    {
     "data": {
      "text/plain": [
       "0"
      ]
     },
     "execution_count": 25,
     "metadata": {},
     "output_type": "execute_result"
    }
   ],
   "source": [
    "nombres[0].count(\"e\")"
   ]
  },
  {
   "cell_type": "code",
   "execution_count": 51,
   "id": "ee4874da",
   "metadata": {},
   "outputs": [
    {
     "data": {
      "text/plain": [
       "False"
      ]
     },
     "execution_count": 51,
     "metadata": {},
     "output_type": "execute_result"
    }
   ],
   "source": [
    "\"rosa\" in colores"
   ]
  },
  {
   "cell_type": "code",
   "execution_count": 52,
   "id": "cb9b2b80",
   "metadata": {},
   "outputs": [
    {
     "data": {
      "text/plain": [
       "True"
      ]
     },
     "execution_count": 52,
     "metadata": {},
     "output_type": "execute_result"
    }
   ],
   "source": [
    "\"x\" not in nombres[0] "
   ]
  },
  {
   "cell_type": "code",
   "execution_count": 68,
   "id": "447d24bd",
   "metadata": {},
   "outputs": [],
   "source": [
    "temperaturas2 = temperaturas.copy()\n",
    "temperaturas3 = temperaturas.copy()"
   ]
  },
  {
   "cell_type": "code",
   "execution_count": 69,
   "id": "a1a08b58",
   "metadata": {},
   "outputs": [
    {
     "name": "stdout",
     "output_type": "stream",
     "text": [
      "[20, 12, 21, 18, 15, 16, 11]\n",
      "[20, 12, 21, 18, 15, 16, 11]\n",
      "[20, 12, 21, 18, 15, 16, 11]\n"
     ]
    }
   ],
   "source": [
    "print(temperaturas)\n",
    "print(temperaturas2)\n",
    "print(temperaturas3)"
   ]
  },
  {
   "cell_type": "code",
   "execution_count": 56,
   "id": "331a9a70",
   "metadata": {},
   "outputs": [
    {
     "name": "stdout",
     "output_type": "stream",
     "text": [
      "[]\n"
     ]
    }
   ],
   "source": [
    "temperaturas2.clear()\n",
    "print(temperaturas2)"
   ]
  },
  {
   "cell_type": "code",
   "execution_count": 57,
   "id": "13798824",
   "metadata": {},
   "outputs": [],
   "source": [
    "nombres2 = nombres.copy()"
   ]
  },
  {
   "cell_type": "code",
   "execution_count": 58,
   "id": "9c2daf03",
   "metadata": {},
   "outputs": [
    {
     "data": {
      "text/plain": [
       "['Marta', 'Iris', 'Julia']"
      ]
     },
     "execution_count": 58,
     "metadata": {},
     "output_type": "execute_result"
    }
   ],
   "source": [
    "nombres2"
   ]
  },
  {
   "cell_type": "code",
   "execution_count": 60,
   "id": "c0667447",
   "metadata": {},
   "outputs": [
    {
     "data": {
      "text/plain": [
       "['Sanz Muñoz', 'Barredo del Sol', 'Becaria Coquet']"
      ]
     },
     "execution_count": 60,
     "metadata": {},
     "output_type": "execute_result"
    }
   ],
   "source": [
    "apellidos2 = apellidos.copy()\n",
    "apellidos2"
   ]
  },
  {
   "cell_type": "code",
   "execution_count": 70,
   "id": "5aa67a6f",
   "metadata": {},
   "outputs": [
    {
     "name": "stdout",
     "output_type": "stream",
     "text": [
      "[20, 12, 21, 18, 15, 16, 11]\n"
     ]
    },
    {
     "data": {
      "text/plain": [
       "[11, 12, 15, 16, 18, 20, 21]"
      ]
     },
     "execution_count": 70,
     "metadata": {},
     "output_type": "execute_result"
    }
   ],
   "source": [
    "print(temperaturas3)\n",
    "temperaturas3.sort()\n",
    "temperaturas3"
   ]
  },
  {
   "cell_type": "code",
   "execution_count": 80,
   "id": "1c1373f7",
   "metadata": {},
   "outputs": [],
   "source": [
    "nombres = list(nombres)"
   ]
  },
  {
   "cell_type": "code",
   "execution_count": 81,
   "id": "5c11c1fb",
   "metadata": {},
   "outputs": [],
   "source": [
    "nombres2 = nombres.copy()\n"
   ]
  },
  {
   "cell_type": "code",
   "execution_count": 82,
   "id": "0f3a994b",
   "metadata": {},
   "outputs": [],
   "source": [
    "nombres2.sort()"
   ]
  },
  {
   "cell_type": "code",
   "execution_count": 83,
   "id": "13913ce7",
   "metadata": {},
   "outputs": [
    {
     "data": {
      "text/plain": [
       "[' ',\n",
       " ' ',\n",
       " ',',\n",
       " ',',\n",
       " 'I',\n",
       " 'J',\n",
       " 'M',\n",
       " 'a',\n",
       " 'a',\n",
       " 'a',\n",
       " 'i',\n",
       " 'i',\n",
       " 'l',\n",
       " 'r',\n",
       " 'r',\n",
       " 's',\n",
       " 't',\n",
       " 'u']"
      ]
     },
     "execution_count": 83,
     "metadata": {},
     "output_type": "execute_result"
    }
   ],
   "source": [
    "nombres2"
   ]
  },
  {
   "cell_type": "code",
   "execution_count": null,
   "id": "c42f1918",
   "metadata": {},
   "outputs": [
    {
     "ename": "AttributeError",
     "evalue": "'str' object has no attribute 'sort'",
     "output_type": "error",
     "traceback": [
      "\u001b[31m---------------------------------------------------------------------------\u001b[39m",
      "\u001b[31mAttributeError\u001b[39m                            Traceback (most recent call last)",
      "\u001b[36mCell\u001b[39m\u001b[36m \u001b[39m\u001b[32mIn[74]\u001b[39m\u001b[32m, line 1\u001b[39m\n\u001b[32m----> \u001b[39m\u001b[32m1\u001b[39m \u001b[43mnombres\u001b[49m\u001b[43m[\u001b[49m\u001b[32;43m0\u001b[39;49m\u001b[43m]\u001b[49m\u001b[43m.\u001b[49m\u001b[43msort\u001b[49m()\n",
      "\u001b[31mAttributeError\u001b[39m: 'str' object has no attribute 'sort'"
     ]
    }
   ],
   "source": []
  }
 ],
 "metadata": {
  "kernelspec": {
   "display_name": "Python 3",
   "language": "python",
   "name": "python3"
  },
  "language_info": {
   "codemirror_mode": {
    "name": "ipython",
    "version": 3
   },
   "file_extension": ".py",
   "mimetype": "text/x-python",
   "name": "python",
   "nbconvert_exporter": "python",
   "pygments_lexer": "ipython3",
   "version": "3.13.1"
  }
 },
 "nbformat": 4,
 "nbformat_minor": 5
}
