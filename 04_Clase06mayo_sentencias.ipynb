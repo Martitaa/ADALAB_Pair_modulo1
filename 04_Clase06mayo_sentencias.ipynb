{
 "cells": [
  {
   "cell_type": "code",
   "execution_count": 36,
   "id": "12ab9dce",
   "metadata": {},
   "outputs": [],
   "source": [
    "var1 = 8\n",
    "var2 = 2\n",
    "var3 = 8"
   ]
  },
  {
   "cell_type": "code",
   "execution_count": 5,
   "id": "c2c54e60",
   "metadata": {},
   "outputs": [
    {
     "name": "stdout",
     "output_type": "stream",
     "text": [
      "Es enorme\n",
      "Es enorme!\n",
      "pero de verdad!\n"
     ]
    }
   ],
   "source": [
    "if var1 > 6 :\n",
    "    print('Es enorme')\n",
    "if var2 > 6 :\n",
    "    print('Es enorme también!')\n",
    "if var3 > 6 :\n",
    "    print('Es enorme!')\n",
    "    print (\"pero de verdad!\")"
   ]
  },
  {
   "cell_type": "code",
   "execution_count": 14,
   "id": "eeb7d107",
   "metadata": {},
   "outputs": [
    {
     "name": "stdout",
     "output_type": "stream",
     "text": [
      "son iguales\n"
     ]
    }
   ],
   "source": [
    "if var1 == var3 :\n",
    "    print (\"son iguales\")\n",
    "if var1==var2 :\n",
    "    print (\"son iguales\")"
   ]
  },
  {
   "cell_type": "code",
   "execution_count": 25,
   "id": "20a9d97e",
   "metadata": {},
   "outputs": [
    {
     "name": "stdout",
     "output_type": "stream",
     "text": [
      "6\n",
      "la diferencia es 6\n"
     ]
    }
   ],
   "source": [
    "dif = var1-var2\n",
    "print(dif)\n",
    "\n",
    "if var1 >= var2 :\n",
    "    print(\"la diferencia es \" + str(dif))"
   ]
  },
  {
   "cell_type": "code",
   "execution_count": 26,
   "id": "edfc0045",
   "metadata": {},
   "outputs": [
    {
     "name": "stdout",
     "output_type": "stream",
     "text": [
      "es enorme tmb\n"
     ]
    }
   ],
   "source": [
    "if var1 > 6:\n",
    "    print(\"es enorme tmb\")\n",
    "else:\n",
    "    print(\"es chiquitin tmb\")"
   ]
  },
  {
   "cell_type": "code",
   "execution_count": 27,
   "id": "d0a69d05",
   "metadata": {},
   "outputs": [
    {
     "name": "stdout",
     "output_type": "stream",
     "text": [
      "son iguales\n"
     ]
    }
   ],
   "source": [
    "if var1 == var3 :\n",
    "    print(\"son iguales\")\n",
    "else :\n",
    "    print (\"son distintos\")"
   ]
  },
  {
   "cell_type": "code",
   "execution_count": 43,
   "id": "635562fd",
   "metadata": {},
   "outputs": [
    {
     "name": "stdout",
     "output_type": "stream",
     "text": [
      "23\n"
     ]
    }
   ],
   "source": [
    "edad=input(\"cuales es tu edad?\")\n",
    "edad=int(edad)\n",
    "print(edad)"
   ]
  },
  {
   "cell_type": "code",
   "execution_count": 45,
   "id": "d447caa0",
   "metadata": {},
   "outputs": [
    {
     "name": "stdout",
     "output_type": "stream",
     "text": [
      "debe pagar 10e\n"
     ]
    }
   ],
   "source": [
    "if edad < 4 :\n",
    "    print(\"puede entrar gratis\")\n",
    "if edad > 4 and edad < 18 :\n",
    "    print(\"debe pagar 5e\")\n",
    "else:\n",
    "    print(\"debe pagar 10e\")"
   ]
  },
  {
   "cell_type": "code",
   "execution_count": 46,
   "id": "bf47bb01",
   "metadata": {},
   "outputs": [
    {
     "name": "stdout",
     "output_type": "stream",
     "text": [
      "debe pagar 10e\n"
     ]
    }
   ],
   "source": [
    "if edad < 4 :\n",
    "    print(\"puede entrar gratis\")\n",
    "elif edad > 4 and edad < 18 :\n",
    "    print(\"debe pagar 5e\")\n",
    "else:\n",
    "    print(\"debe pagar 10e\")"
   ]
  },
  {
   "cell_type": "code",
   "execution_count": 58,
   "id": "9728b136",
   "metadata": {},
   "outputs": [
    {
     "name": "stdout",
     "output_type": "stream",
     "text": [
      "5\n",
      "10\n",
      "15\n",
      "20\n"
     ]
    }
   ],
   "source": [
    "ahorros=5\n",
    "while ahorros <= 20:\n",
    "    print(ahorros)\n",
    "    ahorros += 5"
   ]
  },
  {
   "cell_type": "code",
   "execution_count": 59,
   "id": "5b159ad0",
   "metadata": {},
   "outputs": [
    {
     "data": {
      "text/plain": [
       "25"
      ]
     },
     "execution_count": 59,
     "metadata": {},
     "output_type": "execute_result"
    }
   ],
   "source": [
    "ahorros"
   ]
  },
  {
   "cell_type": "code",
   "execution_count": 62,
   "id": "a15a8dbd",
   "metadata": {},
   "outputs": [],
   "source": [
    "medida = input(\"¿prefieres celsius o faren?\")\n"
   ]
  },
  {
   "cell_type": "code",
   "execution_count": 64,
   "id": "6b128f24",
   "metadata": {},
   "outputs": [],
   "source": [
    "grados = input(\"qué grados quieres convertir?\")\n",
    "grados=int(grados)\n"
   ]
  },
  {
   "cell_type": "code",
   "execution_count": 65,
   "id": "8b1721f9",
   "metadata": {},
   "outputs": [
    {
     "data": {
      "text/plain": [
       "24"
      ]
     },
     "execution_count": 65,
     "metadata": {},
     "output_type": "execute_result"
    }
   ],
   "source": [
    "grados"
   ]
  },
  {
   "cell_type": "code",
   "execution_count": 66,
   "id": "de31d15e",
   "metadata": {},
   "outputs": [
    {
     "name": "stdout",
     "output_type": "stream",
     "text": [
      "-4.444444444444445\n"
     ]
    }
   ],
   "source": [
    "if medida == \"celsius\" :\n",
    "    print((grados - 32)*5/9)"
   ]
  },
  {
   "cell_type": "code",
   "execution_count": 83,
   "id": "b275407f",
   "metadata": {},
   "outputs": [],
   "source": [
    "ingreso_anual = (input(\"cual es su ingreso anual\"))"
   ]
  },
  {
   "cell_type": "code",
   "execution_count": null,
   "id": "618b4f83",
   "metadata": {},
   "outputs": [],
   "source": [
    "ingreso_anual = int(ingreso_anual)"
   ]
  },
  {
   "cell_type": "code",
   "execution_count": 86,
   "id": "7cff0f04",
   "metadata": {},
   "outputs": [],
   "source": [
    "estado_civil= input(\"¿cual es su estado civil? (use S para soltero y C para casado)\")"
   ]
  },
  {
   "cell_type": "code",
   "execution_count": 89,
   "id": "78ea04a5",
   "metadata": {},
   "outputs": [
    {
     "ename": "NameError",
     "evalue": "name 'f' is not defined",
     "output_type": "error",
     "traceback": [
      "\u001b[1;31m---------------------------------------------------------------------------\u001b[0m",
      "\u001b[1;31mNameError\u001b[0m                                 Traceback (most recent call last)",
      "Cell \u001b[1;32mIn[89], line 7\u001b[0m\n\u001b[0;32m      5\u001b[0m \u001b[38;5;28;01mif\u001b[39;00m ingreso_anual \u001b[38;5;241m<\u001b[39m\u001b[38;5;241m=\u001b[39m \u001b[38;5;241m9875\u001b[39m :\n\u001b[0;32m      6\u001b[0m     porcentaje \u001b[38;5;241m=\u001b[39m \u001b[38;5;241m0.1\u001b[39m\n\u001b[1;32m----> 7\u001b[0m     \u001b[38;5;28mprint\u001b[39m(impuesto \u001b[38;5;241m=\u001b[39m f(ingreso_anual\u001b[38;5;241m*\u001b[39m porcentaje))\n",
      "\u001b[1;31mNameError\u001b[0m: name 'f' is not defined"
     ]
    }
   ],
   "source": [
    "porcentaje = 0.1\n",
    "#impuesto = (ingreso_anual * porcentaje)\n",
    "\n",
    "if estado_civil == \"S\" :\n",
    "    if ingreso_anual <= 9875 :\n",
    "        porcentaje = 0.1\n",
    "        print(impuesto = f(ingreso_anual* porcentaje))"
   ]
  }
 ],
 "metadata": {
  "kernelspec": {
   "display_name": "base",
   "language": "python",
   "name": "python3"
  },
  "language_info": {
   "codemirror_mode": {
    "name": "ipython",
    "version": 3
   },
   "file_extension": ".py",
   "mimetype": "text/x-python",
   "name": "python",
   "nbconvert_exporter": "python",
   "pygments_lexer": "ipython3",
   "version": "3.12.7"
  }
 },
 "nbformat": 4,
 "nbformat_minor": 5
}
